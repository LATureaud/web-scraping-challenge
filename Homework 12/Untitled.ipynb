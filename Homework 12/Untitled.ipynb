{
 "cells": [
  {
   "cell_type": "code",
   "execution_count": 1,
   "metadata": {},
   "outputs": [],
   "source": [
    "from bs4 import BeautifulSoup as bs\n",
    "import pandas as pd\n",
    "import requests\n",
    "from selenium import webdriver\n",
    "from splinter import Browser"
   ]
  },
  {
   "cell_type": "code",
   "execution_count": 2,
   "metadata": {},
   "outputs": [],
   "source": [
    "url = 'https://mars.nasa.gov/news/'\n",
    "path = 'C:/Users/latur/Desktop/VU-NSH-DATA-PT-07-2019-U-C/Homework 12/chromedriver'\n",
    "browser = webdriver.Chrome(path)\n",
    "\n",
    "# driver = webdriver.Chrome(\"C:/Users/latur/Desktop/VU-NSH-DATA-PT-07-2019-U-C/Homework 12/chromedriver\")\n",
    "# executable_path = {'executable_path': '/usr/local/bin/chromedriver'}\n",
    "# browser = Browser('chrome', **executable_path, headless=True)"
   ]
  },
  {
   "cell_type": "code",
   "execution_count": 3,
   "metadata": {},
   "outputs": [],
   "source": [
    "browser.get(url)\n",
    "html = browser.page_source"
   ]
  },
  {
   "cell_type": "code",
   "execution_count": 4,
   "metadata": {},
   "outputs": [],
   "source": [
    "soup = bs(html, 'html.parser')\n",
    "browser.close()"
   ]
  },
  {
   "cell_type": "code",
   "execution_count": 5,
   "metadata": {},
   "outputs": [],
   "source": [
    "#Create BeautifulSoup object; parse with 'html.parser'\n",
    "soup_li = soup.find_all('li', class_='slide')"
   ]
  },
  {
   "cell_type": "code",
   "execution_count": 6,
   "metadata": {},
   "outputs": [],
   "source": [
    "#locate title of first article \n",
    "titleslist = []\n",
    "pgphlist = []\n",
    "\n",
    "for article in soup_li:\n",
    "    title = article.find('div', class_='content_title').text\n",
    "    paragraph = article.find('div', class_='article_teaser_body').text\n",
    "    titleslist.append(title)\n",
    "    pgphlist.append(paragraph)"
   ]
  },
  {
   "cell_type": "code",
   "execution_count": 8,
   "metadata": {},
   "outputs": [
    {
     "ename": "NameError",
     "evalue": "name 'time' is not defined",
     "output_type": "error",
     "traceback": [
      "\u001b[1;31m---------------------------------------------------------------------------\u001b[0m",
      "\u001b[1;31mNameError\u001b[0m                                 Traceback (most recent call last)",
      "\u001b[1;32m<ipython-input-8-c7321f5530da>\u001b[0m in \u001b[0;36m<module>\u001b[1;34m\u001b[0m\n\u001b[0;32m      5\u001b[0m \u001b[0msplint_browser\u001b[0m\u001b[1;33m.\u001b[0m\u001b[0mvisit\u001b[0m\u001b[1;33m(\u001b[0m\u001b[0murl\u001b[0m\u001b[1;33m)\u001b[0m\u001b[1;33m\u001b[0m\u001b[1;33m\u001b[0m\u001b[0m\n\u001b[0;32m      6\u001b[0m \u001b[0msplint_browser\u001b[0m\u001b[1;33m.\u001b[0m\u001b[0mclick_link_by_partial_text\u001b[0m\u001b[1;33m(\u001b[0m\u001b[1;34m'FULL IMAGE'\u001b[0m\u001b[1;33m)\u001b[0m\u001b[1;33m\u001b[0m\u001b[1;33m\u001b[0m\u001b[0m\n\u001b[1;32m----> 7\u001b[1;33m \u001b[0mtime\u001b[0m\u001b[1;33m.\u001b[0m\u001b[0msleep\u001b[0m\u001b[1;33m(\u001b[0m\u001b[1;36m2\u001b[0m\u001b[1;33m)\u001b[0m\u001b[1;33m\u001b[0m\u001b[1;33m\u001b[0m\u001b[0m\n\u001b[0m\u001b[0;32m      8\u001b[0m \u001b[0msplint_browser\u001b[0m\u001b[1;33m.\u001b[0m\u001b[0mclick_link_by_partial_text\u001b[0m\u001b[1;33m(\u001b[0m\u001b[1;34m'more info'\u001b[0m\u001b[1;33m)\u001b[0m\u001b[1;33m\u001b[0m\u001b[1;33m\u001b[0m\u001b[0m\n",
      "\u001b[1;31mNameError\u001b[0m: name 'time' is not defined"
     ]
    }
   ],
   "source": [
    "splint_browser = Browser('chrome', executable_path=path,\n",
    "                  headless=False)\n",
    "\n",
    "url = 'https://www.jpl.nasa.gov/spaceimages/?search=&category=Mars'\n",
    "splint_browser.visit(url)\n",
    "splint_browser.click_link_by_partial_text('FULL IMAGE')\n",
    "splint_browser.click_link_by_partial_text('more info')"
   ]
  },
  {
   "cell_type": "code",
   "execution_count": 9,
   "metadata": {},
   "outputs": [],
   "source": [
    "html = splint_browser.html\n",
    "soup = bs(html, 'html.parser')\n",
    "splint_browser.quit()"
   ]
  },
  {
   "cell_type": "code",
   "execution_count": 10,
   "metadata": {},
   "outputs": [],
   "source": [
    "#setting up browser and clicking link \n",
    "image_src = soup.find_all('figure', class_='lede')"
   ]
  },
  {
   "cell_type": "code",
   "execution_count": 11,
   "metadata": {},
   "outputs": [],
   "source": [
    "#Create BeautifulSoup object; parse with 'html.parser'\n",
    "for each in image_src:\n",
    "    print(each.a['href'])\n",
    "    featured_image_url = 'https://www.jpl.nasa.gov'+each.a['href']\n"
   ]
  },
  {
   "cell_type": "code",
   "execution_count": 13,
   "metadata": {},
   "outputs": [
    {
     "data": {
      "text/plain": [
       "'/spaceimages/images/mediumsize/PIA00271_ip.jpg'"
      ]
     },
     "execution_count": 13,
     "metadata": {},
     "output_type": "execute_result"
    }
   ],
   "source": [
    "#locate BIG image photo \n",
    "featured_image = soup.find(class_='fancybox-inner').find('img')['src']\n",
    "featured_image"
   ]
  },
  {
   "cell_type": "code",
   "execution_count": 14,
   "metadata": {},
   "outputs": [],
   "source": [
    "#make url to LARGE image\n",
    "large_image_url = f'https://www.jpl.nasa.gov{featured_image}'"
   ]
  },
  {
   "cell_type": "code",
   "execution_count": 17,
   "metadata": {},
   "outputs": [
    {
     "name": "stdout",
     "output_type": "stream",
     "text": [
      "                      0                              1\n",
      "0  Equatorial Diameter:                       6,792 km\n",
      "1       Polar Diameter:                       6,752 km\n",
      "2                 Mass:  6.39 × 10^23 kg (0.11 Earths)\n",
      "3                Moons:            2 (Phobos & Deimos)\n",
      "4       Orbit Distance:       227,943,824 km (1.38 AU)\n",
      "5         Orbit Period:           687 days (1.9 years)\n",
      "6  Surface Temperature:                   -87 to -5 °C\n",
      "7         First Record:              2nd millennium BC\n",
      "8          Recorded By:           Egyptian astronomers\n",
      "Tablelength: 3\n",
      "  Mars - Earth Comparison             Mars            Earth\n",
      "0               Diameter:         6,779 km        12,742 km\n",
      "1                   Mass:  6.39 × 10^23 kg  5.97 × 10^24 kg\n",
      "2                  Moons:                2                1\n",
      "3      Distance from Sun:   227,943,824 km   149,598,262 km\n",
      "4         Length of Year:   687 Earth days      365.24 days\n",
      "5            Temperature:    -153 to 20 °C      -88 to 58°C\n",
      "Tablelength: 3\n",
      "                      0                              1\n",
      "0  Equatorial Diameter:                       6,792 km\n",
      "1       Polar Diameter:                       6,752 km\n",
      "2                 Mass:  6.39 × 10^23 kg (0.11 Earths)\n",
      "3                Moons:            2 (Phobos & Deimos)\n",
      "4       Orbit Distance:       227,943,824 km (1.38 AU)\n",
      "5         Orbit Period:           687 days (1.9 years)\n",
      "6  Surface Temperature:                   -87 to -5 °C\n",
      "7         First Record:              2nd millennium BC\n",
      "8          Recorded By:           Egyptian astronomers\n",
      "Tablelength: 3\n"
     ]
    }
   ],
   "source": [
    "url_tables = 'https://space-facts.com/mars/'\n",
    "\n",
    "tables = pd.read_html(url_tables)\n",
    "\n",
    "for each in tables:\n",
    "    print(each)\n",
    "    print(\"Tablelength: \" + str(len(tables)))\n",
    "    table_df = pd.DataFrame(tables[0])"
   ]
  },
  {
   "cell_type": "code",
   "execution_count": 18,
   "metadata": {},
   "outputs": [
    {
     "data": {
      "text/html": [
       "<div>\n",
       "<style scoped>\n",
       "    .dataframe tbody tr th:only-of-type {\n",
       "        vertical-align: middle;\n",
       "    }\n",
       "\n",
       "    .dataframe tbody tr th {\n",
       "        vertical-align: top;\n",
       "    }\n",
       "\n",
       "    .dataframe thead th {\n",
       "        text-align: right;\n",
       "    }\n",
       "</style>\n",
       "<table border=\"1\" class=\"dataframe\">\n",
       "  <thead>\n",
       "    <tr style=\"text-align: right;\">\n",
       "      <th></th>\n",
       "      <th>mars_data</th>\n",
       "    </tr>\n",
       "    <tr>\n",
       "      <th>planet_profile</th>\n",
       "      <th></th>\n",
       "    </tr>\n",
       "  </thead>\n",
       "  <tbody>\n",
       "    <tr>\n",
       "      <th>Equatorial Diameter:</th>\n",
       "      <td>6,792 km</td>\n",
       "    </tr>\n",
       "    <tr>\n",
       "      <th>Polar Diameter:</th>\n",
       "      <td>6,752 km</td>\n",
       "    </tr>\n",
       "    <tr>\n",
       "      <th>Mass:</th>\n",
       "      <td>6.39 × 10^23 kg (0.11 Earths)</td>\n",
       "    </tr>\n",
       "    <tr>\n",
       "      <th>Moons:</th>\n",
       "      <td>2 (Phobos &amp; Deimos)</td>\n",
       "    </tr>\n",
       "    <tr>\n",
       "      <th>Orbit Distance:</th>\n",
       "      <td>227,943,824 km (1.38 AU)</td>\n",
       "    </tr>\n",
       "  </tbody>\n",
       "</table>\n",
       "</div>"
      ],
      "text/plain": [
       "                                          mars_data\n",
       "planet_profile                                     \n",
       "Equatorial Diameter:                       6,792 km\n",
       "Polar Diameter:                            6,752 km\n",
       "Mass:                 6.39 × 10^23 kg (0.11 Earths)\n",
       "Moons:                          2 (Phobos & Deimos)\n",
       "Orbit Distance:            227,943,824 km (1.38 AU)"
      ]
     },
     "execution_count": 18,
     "metadata": {},
     "output_type": "execute_result"
    }
   ],
   "source": [
    "table_df = table_df.rename(columns={0:\"planet_profile\", 1:\"mars_data\"})\n",
    "table_df = table_df.set_index('planet_profile')\n",
    "table_df.head()"
   ]
  },
  {
   "cell_type": "code",
   "execution_count": 19,
   "metadata": {},
   "outputs": [],
   "source": [
    "table_html = pd.DataFrame.to_html(table_df)\n",
    "hemispheres = pd.DataFrame(columns=['title', 'img_url'])"
   ]
  },
  {
   "cell_type": "code",
   "execution_count": 20,
   "metadata": {},
   "outputs": [
    {
     "name": "stdout",
     "output_type": "stream",
     "text": [
      "Cerberus Hemisphere Enhanced\n",
      "Schiaparelli Hemisphere Enhanced\n",
      "Syrtis Major Hemisphere Enhanced\n",
      "Valles Marineris Hemisphere Enhanced\n"
     ]
    }
   ],
   "source": [
    "splint_browser = Browser('chrome', executable_path=path,\n",
    "                  headless=False)\n",
    "\n",
    "url = 'https://astrogeology.usgs.gov/search/results?q=hemisphere+enhanced&k1=target&v1=Mars'\n",
    "splint_browser.visit(url)\n",
    "\n",
    "hemisphere_list = []\n",
    "\n",
    "html = splint_browser.html\n",
    "soup = bs(html, 'html.parser')\n",
    "findHemisphere = soup.find_all('div', class_='item')\n",
    "\n",
    "for each in findHemisphere:\n",
    "    print(each.h3.text)\n",
    "    hemisphere_list.append(each.h3.text)\n",
    "    \n",
    "splint_browser.quit()"
   ]
  },
  {
   "cell_type": "code",
   "execution_count": 23,
   "metadata": {},
   "outputs": [],
   "source": [
    "hemisphere_image = []\n",
    "\n",
    "for eachHemi in hemisphere_list:\n",
    "\n",
    "    splint_browser = Browser('chrome', executable_path=path,\n",
    "                  headless=False)\n",
    "    splint_browser.visit(url)\n",
    "    splint_browser.click_link_by_partial_text(eachHemi)\n",
    "\n",
    "    splint_browser.click_link_by_text('Sample')\n",
    "    #Line 23\n",
    "    splint_browser.windows.current = splint_browser.windows[1]\n",
    "    #Line 24\n",
    "    html = splint_browser.html\n",
    "    soup = bs(html, 'html.parser')\n",
    "    splint_browser.quit()\n",
    "    #Line 25\n",
    "    hemi_image = soup.body.find('img')['src']\n",
    "    \n",
    "    hemisphere_image.append(hemi_image)"
   ]
  },
  {
   "cell_type": "code",
   "execution_count": 24,
   "metadata": {},
   "outputs": [
    {
     "ename": "NameError",
     "evalue": "name 'featured_image_url' is not defined",
     "output_type": "error",
     "traceback": [
      "\u001b[1;31m---------------------------------------------------------------------------\u001b[0m",
      "\u001b[1;31mNameError\u001b[0m                                 Traceback (most recent call last)",
      "\u001b[1;32m<ipython-input-24-1c062a57c54a>\u001b[0m in \u001b[0;36m<module>\u001b[1;34m\u001b[0m\n\u001b[0;32m      7\u001b[0m     \u001b[0mtitle_image_url\u001b[0m\u001b[1;33m.\u001b[0m\u001b[0mappend\u001b[0m\u001b[1;33m(\u001b[0m\u001b[0mtemp_dict\u001b[0m\u001b[1;33m)\u001b[0m\u001b[1;33m\u001b[0m\u001b[1;33m\u001b[0m\u001b[0m\n\u001b[0;32m      8\u001b[0m mars_dict = {'News Title': title, 'News Paragraph': paragraph, 'Featured Image':\n\u001b[1;32m----> 9\u001b[1;33m     \u001b[0mfeatured_image_url\u001b[0m\u001b[1;33m,\u001b[0m \u001b[1;34m'Mars Weather'\u001b[0m\u001b[1;33m:\u001b[0m \u001b[0mmars_weather\u001b[0m\u001b[1;33m,\u001b[0m \u001b[1;34m'Mars Info'\u001b[0m\u001b[1;33m:\u001b[0m \u001b[0mtable_html\u001b[0m\u001b[1;33m,\u001b[0m\u001b[1;33m\u001b[0m\u001b[1;33m\u001b[0m\u001b[0m\n\u001b[0m\u001b[0;32m     10\u001b[0m     'Hemisphere Images': title_image_url}\n",
      "\u001b[1;31mNameError\u001b[0m: name 'featured_image_url' is not defined"
     ]
    }
   ],
   "source": [
    "title_image_url = []\n",
    "title_image_tuple = zip(hemisphere_list, hemisphere_image)\n",
    "for each in title_image_tuple:\n",
    "    temp_dict = {}\n",
    "    temp_dict['title'] = each[0]\n",
    "    temp_dict['img_url'] = each[1]\n",
    "    title_image_url.append(temp_dict)\n",
    "mars_dict = {'News Title': title, 'News Paragraph': paragraph, 'Featured Image':\n",
    "    featured_image_url, 'Mars Weather': mars_weather, 'Mars Info': table_html,\n",
    "    'Hemisphere Images': title_image_url}"
   ]
  },
  {
   "cell_type": "code",
   "execution_count": null,
   "metadata": {},
   "outputs": [],
   "source": []
  }
 ],
 "metadata": {
  "kernelspec": {
   "display_name": "Python 3",
   "language": "python",
   "name": "python3"
  },
  "language_info": {
   "codemirror_mode": {
    "name": "ipython",
    "version": 3
   },
   "file_extension": ".py",
   "mimetype": "text/x-python",
   "name": "python",
   "nbconvert_exporter": "python",
   "pygments_lexer": "ipython3",
   "version": "3.7.3"
  }
 },
 "nbformat": 4,
 "nbformat_minor": 2
}
